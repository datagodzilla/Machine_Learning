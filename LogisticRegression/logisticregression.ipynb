{
 "cells": [
  {
   "cell_type": "markdown",
   "metadata": {},
   "source": [
    "# Logistic Regression"
   ]
  },
  {
   "cell_type": "markdown",
   "metadata": {},
   "source": [
    "- It measures the relatioship between categorical dependent variable and one or more independent variables.\n",
    "- Input values are combined linearly using weights or coefficient values.\n",
    "- Linear regression for classification is sensitive to outliers"
   ]
  },
  {
   "cell_type": "markdown",
   "metadata": {},
   "source": [
    "Models:\n",
    "- Linear Classifiers\n",
    "- Logistic Regression\n",
    "- Decision Trees\n",
    "- Ensembles\n",
    "\n",
    "Algorithms:\n",
    "- Gradient\n",
    "- Stochastic Gradient\n",
    "- Recursive Greedy\n",
    "- Boosting\n",
    "\n",
    "Core ML:\n",
    "- Alleviating overfitting\n",
    "- Handling Missing data\n",
    "- Precision Recall\n",
    "- Online learning\n",
    "- Use gradient ascent to maximize likelihood"
   ]
  },
  {
   "cell_type": "markdown",
   "metadata": {},
   "source": [
    "1. Linear Classifier     \n",
    "\n",
    "    - Uses training data to learn a weight (w) or coefficient for each parameter\n",
    "    - For 2-dimensional data, a decision boundary separates positive and negative predictions\n",
    "    - For multi-dimensional data, the linear classifier model builds a hyperplane that tries to separate positive samples from negative samples\n",
    "    - A score function is defined which is a weighted combination of the coefficients multiplied by the features which whose output ranges from $-\\infty$ to $+\\infty$.\n",
    "    - To predict the probability, a link function such as logistic function is used to translate the values from the score function to 0 to 1.\n",
    "\n",
    "$Score(x) = w_0 + w_1 \\times h_1(x_1) + w_2 \\times h_2(x_2) + w_3 \\times h_3(x_3) = w^Th(x_i)$ \n",
    "\n",
    "$\\hat{y_i} = sign(Score(x_i))$"
   ]
  },
  {
   "cell_type": "markdown",
   "metadata": {},
   "source": [
    "Example:\n",
    "\n",
    "Predict most likely class:\n",
    "\n",
    "$\\hat{P}(y|x)$ = estimate of class probabilities\n",
    "\n",
    "if $\\hat{P}(y|x)$ > 0.5:         \n",
    "             $\\hat{y}$  =  +1      \n",
    "else:        \n",
    "             $\\hat{y}$  =  -1           \n",
    "             \n",
    "             \n",
    "$-\\infty < Score(x) = w_0 + w_1 \\times h_1(x_1) + w_2 \\times h_2(x_2) + w_3 \\times h_3(x_3) = w^Th(x_i) < + \\infty$\n",
    "\n",
    "\n",
    "corresponds to \n",
    "\n",
    "$0 < P(y=+1|x_i, \\hat{w}) = \\frac{1}{1+\\exp^{-\\hat{w}^Th(x_i)}} < 1$\n",
    "\n",
    "- A Generalized Linear Model squeezes the Score from $-\\infty$ and $+\\infty$ to 0 and 1."
   ]
  },
  {
   "cell_type": "markdown",
   "metadata": {},
   "source": [
    "# Logistic Function\n",
    "\n",
    "$Score(x) = w_0 + w_1 \\times h_1(x_1) + w_2 \\times h_2(x_2) + w_3 \\times h_3(x_3) = w^Th(x_i)$\n",
    "\n",
    "$sigmoid(Score) = \\frac{1}{1+\\exp^{-Score}} = \\frac{1}{1+\\exp^{-w^Th(x_i)}}$\n",
    "\n",
    "$P(y=+1|x, \\hat{w}) = \\frac{1}{1+\\exp^{-w^Th(x)}}$"
   ]
  },
  {
   "cell_type": "markdown",
   "metadata": {},
   "source": [
    "## Multiclass training\n",
    "\n",
    "Use 1 vs all approach:\n",
    "\n",
    "$\\hat{P}(y=+1|x)$ = estimate of 1 vs all model for each class\n",
    "\n",
    "Predict most likely class\n",
    "max_prob = 0; $\\hat{y}$ = 0"
   ]
  },
  {
   "cell_type": "code",
   "execution_count": null,
   "metadata": {},
   "outputs": [],
   "source": [
    "for c = 1, ...., C:\n",
    "       if $\\hat{P}(y=+1|x_i)$ > max_prob:\n",
    "           $\\hat{y}$ = c\n",
    "           max_prob = $\\hat{P}(y=+1|x_i)$"
   ]
  },
  {
   "cell_type": "markdown",
   "metadata": {},
   "source": [
    "## Quality Metric\n",
    "\n",
    "### Likelihood function\n",
    "\n",
    "- Find $w$ such that logistic function of negative datapoints goes to 0 and positive data points to 1.\n",
    "\n",
    "$P(y=+1|x_i, w) = 0.0$      \n",
    "$P(y=+1|x_i, w) = 1.0$\n",
    "\n",
    "- Likelihood function $l(w)$, measures quality of fit for model with coefficient $w$.\n",
    "\n",
    "\n",
    "### Find \"best\" classifier\n",
    "- Maximize likelihood over all possible $w_0, w_1, w_2$.\n",
    "- $l(w_0, w_1, w_2)$\n",
    "- Use Gradient Ascent to maximize $\\hat{w}.$"
   ]
  },
  {
   "cell_type": "markdown",
   "metadata": {},
   "source": [
    "## Feature Scaling for gradient descent\n",
    "- For Linear Regression as well as Logistic Regression, scaling the features will help to converge on the feature weights faster.\n"
   ]
  },
  {
   "cell_type": "code",
   "execution_count": 1,
   "metadata": {},
   "outputs": [
    {
     "ename": "SyntaxError",
     "evalue": "invalid character in identifier (<ipython-input-1-b71453b3fc7d>, line 1)",
     "output_type": "error",
     "traceback": [
      "\u001b[0;36m  File \u001b[0;32m\"<ipython-input-1-b71453b3fc7d>\"\u001b[0;36m, line \u001b[0;32m1\u001b[0m\n\u001b[0;31m    ∂∂θjJ(θ)=∂∂θj−1m∑i=1m[y(i)log(hθ(x(i)))+(1−y(i))log(1−hθ(x(i)))]=−1m∑i=1m[y(i)∂∂θjlog(hθ(x(i)))+(1−y(i))∂∂θjlog(1−hθ(x(i)))]=−1m∑i=1m⎡⎣⎢⎢y(i)∂∂θjhθ(x(i))hθ(x(i))+(1−y(i))∂∂θj(1−hθ(x(i)))1−hθ(x(i))⎤⎦⎥⎥=−1m∑i=1m⎡⎣⎢⎢y(i)∂∂θjσ(θTx(i))hθ(x(i))+(1−y(i))∂∂θj(1−σ(θTx(i)))1−hθ(x(i))⎤⎦⎥⎥=−1m∑i=1m⎡⎣⎢⎢y(i)σ(θTx(i))(1−σ(θTx(i)))∂∂θjθTx(i)hθ(x(i))+−(1−y(i))σ(θTx(i))(1−σ(θTx(i)))∂∂θjθTx(i)1−hθ(x(i))⎤⎦⎥⎥=−1m∑i=1m⎡⎣⎢⎢y(i)hθ(x(i))(1−hθ(x(i)))∂∂θjθTx(i)hθ(x(i))−(1−y(i))hθ(x(i))(1−hθ(x(i)))∂∂θjθTx(i)1−hθ(x(i))⎤⎦⎥⎥=−1m∑i=1m[y(i)(1−hθ(x(i)))x(i)j−(1−y(i))hθ(x(i))x(i)j]=−1m∑i=1m[y(i)(1−hθ(x(i)))−(1−y(i))hθ(x(i))]x(i)j=−1m∑i=1m[y(i)−y(i)hθ(x(i))−hθ(x(i))+y(i)hθ(x(i))]x(i)j=−1m∑i=1m[y(i)−hθ(x(i))]x(i)j=1m∑i=1m[hθ(x(i))−y(i)]x(i)j\u001b[0m\n\u001b[0m        ^\u001b[0m\n\u001b[0;31mSyntaxError\u001b[0m\u001b[0;31m:\u001b[0m invalid character in identifier\n"
     ]
    }
   ],
   "source": []
  },
  {
   "cell_type": "code",
   "execution_count": null,
   "metadata": {},
   "outputs": [],
   "source": []
  }
 ],
 "metadata": {
  "kernelspec": {
   "display_name": "Python3.6",
   "language": "python",
   "name": "python3"
  },
  "language_info": {
   "codemirror_mode": {
    "name": "ipython",
    "version": 3
   },
   "file_extension": ".py",
   "mimetype": "text/x-python",
   "name": "python",
   "nbconvert_exporter": "python",
   "pygments_lexer": "ipython3",
   "version": "3.6.7"
  }
 },
 "nbformat": 4,
 "nbformat_minor": 2
}
