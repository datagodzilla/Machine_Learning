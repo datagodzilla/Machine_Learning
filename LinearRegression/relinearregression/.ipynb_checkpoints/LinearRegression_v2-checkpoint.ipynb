{
 "cells": [
  {
   "cell_type": "markdown",
   "metadata": {},
   "source": [
    "# Linear Regression"
   ]
  },
  {
   "cell_type": "markdown",
   "metadata": {},
   "source": [
    "### Simple Linear Regression\n",
    "\n",
    "Equation of line:\n",
    "\n",
    "$y = w_1x_1 + w_2$\n",
    "\n",
    "where,  \n",
    "slope: $w_1$  \n",
    "y-intercept: $w_2$\n",
    "\n",
    "![alt text](LR.png \"LinearRegression\")"
   ]
  },
  {
   "cell_type": "markdown",
   "metadata": {},
   "source": [
    "#### Error Functions\n",
    "The two most common error functions for linear regression are:\n",
    "- Mean Absolute Error (MAE)\n",
    "2. Mean Squared Error (MSE)\n",
    "\n",
    "##### Mean Absolute Error:\n",
    "- The vertical distance from the point to the line is the $y - \\hat{y}.$\n",
    "\n",
    "Mean Absolute Error is the sum of all the absolute errors divided by the number of points:  \n",
    "\n",
    "$Error = \\frac{1}{m} \\sum_{i=1}^{m} |y - \\hat{y}|$\n",
    "\n",
    "Using gradient descent we get the best possible fit line with the smallest possible MAE.\n",
    "\n",
    "##### Mean Squared Error:\n",
    "\n",
    "Mean Squared Error is the sum of all the squared errors divided by the number of points:  \n",
    "\n",
    "$Error = \\frac{1}{2m} \\sum_{i=1}^{m} (y - \\hat{y})^2$\n",
    "\n",
    "By minimizing the average sum of squared errors, MSE is minimized and we get the best possible fit line."
   ]
  },
  {
   "cell_type": "markdown",
   "metadata": {},
   "source": [
    "#### Mean Squared Error\n",
    "\n",
    "**Data:**   \n",
    "$x_1, x_2, ...., x_m$  \n",
    "\n",
    "**Labels:**  \n",
    "$y_1, y_2, ...., y_m$   \n",
    "\n",
    "**Predictions:**   \n",
    "$\\hat{y_i} = w_1x_i + w2$  \n",
    "\n",
    "where,    \n",
    "*slope:*  $w_1$   \n",
    "*y_intercept:* $w_2$    \n",
    "\n",
    "**Mean Squared Error:**\n",
    "\n",
    "Given the values  of $w_1$ and $w_2$, we can calculate the predictions and the error based on these values of $w_1$ and $w_2$.\n",
    "\n",
    "$Error(w_1, w_2) = \\frac{1}{2m} \\sum_{i=1}^{m} (\\hat{y} - y)^2 $  \n",
    "\n",
    "In order to minimize this error, we need to take the derivatives wrt the input variables $w_1$ and $w_2$ and set them both equal to zero. We calculate the derivites and we get these two formulas:\n",
    "\n",
    "$0 = \\frac{\\sum{x_i}^2}{m}w_1 + \\frac{\\sum{x_i}}{m}w_2 + \\frac{\\sum{x_iy_i}}{m} $   \n",
    "\n",
    "$0 = \\frac{\\sum{x_i}}{m}w_1 + w_2 + \\frac{\\sum{y_i}}{m} $   \n",
    "\n",
    "Now, we need to solve for $w_1$ and $w_2$ for these 2 equations to be zero. We have a system of two equations and two unknowns to be solved.\n",
    "\n",
    "For a system with greater number of dimensions in inputs, the problem would have *n* equations with *n* unknowns which will need a lot of computational power depending on the size of *n*.\n",
    "\n",
    "Therefore, gradient decent method is used to obtain a solution that fits our data very well."
   ]
  },
  {
   "cell_type": "markdown",
   "metadata": {},
   "source": [
    "#### 2-Dimensional solution\n",
    "\n",
    "**Data:**   \n",
    "$x_1, x_2, ...., x_m$  \n",
    "\n",
    "**Labels:**  \n",
    "$y_1, y_2, ...., y_m$   \n",
    "\n",
    "**Predictions:**   \n",
    "$\\hat{y_i} = w_1x_i + w_2$  \n",
    "\n",
    "where,    \n",
    "*slope:*  $w_1$   \n",
    "*y_intercept:* $w_2$    \n",
    "\n",
    "**Mean Squared Error:**\n",
    "\n",
    "Given the values  of $w_1$ and $w_2$, we can calculate the predictions and the error based on these values of $w_1$ and $w_2$.\n",
    "\n",
    "$E(w_1, w_2) = \\frac{1}{2m} \\sum_{i=1}^{m} (\\hat{y} - y)^2 $  \n",
    "\n",
    "We need to minimize this error function. Ignoring $\\frac{1}{m}$, and replacing the value of $\\hat{y_i} = w_1x_i + w_2$, we get:\n",
    "\n",
    "$E(w_1, w_2) = \\sum_{i=1}^{m} (\\hat{y} - y)^2      \n",
    "             = \\sum_{i=1}^{m} (w_1x_i + w_2 - y)^2  $    \n",
    "\n",
    "In order to minimize this error function, we need to take the derivatives wrt $w_1$ and $w_2$ and set them equal to 0.\n",
    "\n",
    "Using the chain rule, we get:\n",
    "\n",
    "$\\frac{\\partial E}{\\partial w_1} = \\sum_{i=1}^{m} (w_1x_i + w_2 - y_i)x_i = w_1 \\sum_{i=1}^{m} {x_i}^2 + w_2 \\sum_{i=1}^{m} x_i - \\sum_{i=1}^{m} x_iy_i $\n",
    "\n",
    "and \n",
    "\n",
    "$\\frac{\\partial E}{\\partial w_2} = \\sum_{i=1}^{m} (w_1x_i + w_2 - y_i) = w_1 \\sum_{i=1}^{m} x_i + w_2 \\sum_{i=1}^{m} 1 - \\sum_{i=1}^{m} y_i $\n",
    "\n",
    "Setting the two equations to zero gives us the following two equations and two variables (where the variables are $w_1$ and $w_2$)     \n",
    "\n",
    "$0 = w_1 \\sum_{i=1}^{m} {x_i}^2 + w_2 \\sum_{i=1}^{m} x_i - \\sum_{i=1}^{m} x_iy_i $\n",
    "\n",
    "$0 = w_1 \\sum_{i=1}^{m} x_i + w_2 \\sum_{i=1}^{m} 1 - \\sum_{i=1}^{m} y_i $ \n",
    "\n",
    "then\n",
    "\n",
    "$ w_1(\\sum_{i=1}^{m} {x_i}^2) + w_2(\\sum_{i=1}^{m} x_i) = \\sum_{i=1}^{m} x_iy_i $\n",
    "\n",
    "$ w_1(\\sum_{i=1}^{m} x_i) + w_2(m) = \\sum_{i=1}^{m} y_i $ \n",
    "\n",
    "We can solve the 2 equations and 2 variables by multiplying the first equation by $ w_1(\\sum_{i=1}^{m} x_i) $ and the second equation by *m* and subtract them to obtain a value for $w_1$, and then replace this value in the first equation, we get the following:\n",
    "\n",
    "$ w_1 = \\frac{m(\\sum_{i=1}^{m} x_iy_i) - (\\sum_{i=1}^{m} x_i)(\\sum_{i=1}^{m} y_i)}{m(\\sum_{i=1}^{m} {x_i}^2) - (\\sum_{i=1}^{m} x_i)^2}$\n",
    "\n",
    "\n",
    "$ w_2 = \\frac{(\\sum_{i=1}^{m} x_iy_i)(\\sum_{i=1}^{m} x_i)  -  (\\sum_{i=1}^{m} {x_i}^2)(\\sum_{i=1}^{m} y_i)}{m(\\sum_{i=1}^{m} x_i)^2 - m(\\sum_{i=1}^{m} {x_i}^2)}$      \n",
    "\n",
    "These are the values for the model coefficients $w_1$ and $w_2$."
   ]
  },
  {
   "cell_type": "markdown",
   "metadata": {},
   "source": [
    "### Multiple linear regression\n",
    "\n",
    "The model equation with *n* predictor variables:\n",
    "\n",
    "$y = x_0 + w_1x_1 + w_2x_2  + ... +  w_{n}x_{n}$\n",
    "\n",
    "- $y$ is the response\n",
    "- $w_1$ is the coefficient for $x_1$ (the first feature)\n",
    "- $w_n$ is the coefficient for $x_n$ (the *n*th feature)\n",
    "\n",
    "In this case:\n",
    "\n",
    "The $w$ values are called the **model coefficients**\n",
    "- These values are \"learned\" during the model fitting step using the \"least squares\" criterion\n",
    "- Then, the fitted model can be used to make predictions"
   ]
  },
  {
   "cell_type": "markdown",
   "metadata": {},
   "source": [
    "- https://www.stat.cmu.edu/~cshalizi/mreg/15/lectures/13/lecture-13.pdf"
   ]
  },
  {
   "cell_type": "markdown",
   "metadata": {},
   "source": [
    "#### n-Dimensional solution    \n",
    "Instead of 2 dimensions as discussed above, if the data has *n* dimensions, the procedure involves matrix operations. The matrix X contains data where each row is one of the data points, and ${x_0}^{(i)} = 1$ represents bias."
   ]
  },
  {
   "cell_type": "markdown",
   "metadata": {},
   "source": [
    "![alt text](X.gif \"X\")"
   ]
  },
  {
   "cell_type": "markdown",
   "metadata": {},
   "source": [
    "Let *y* be the matrix containing labels. \n",
    "\n",
    "![alt text](y.gif \"y\")"
   ]
  },
  {
   "cell_type": "markdown",
   "metadata": {},
   "source": [
    "Let *W* be the matrix containing weights. \n",
    "\n",
    "![alt text](W.gif \"W\")"
   ]
  },
  {
   "cell_type": "markdown",
   "metadata": {},
   "source": [
    "And so the equation for the **Mean Squared Error** can be written as the following matrix product:\n",
    "\n",
    "$E(W) = \\frac{1}{2m} \\sum_{i=1}^{m} (y - \\hat{y})^2$   \n",
    "\n",
    "If $e(w) = (y-\\hat{y})$ and $\\hat{y} = XW $, in terms of multiplication, $e^2$ can be written as $e^{T}e$    \n",
    "\n",
    "$E(W) = \\frac{1}{2m} (y - XW){^T}(y-XW) $\n",
    "\n",
    "$E(W) = \\frac{1}{2m}((XW)^T - y^T)(XW -y) $\n",
    "\n",
    "Again, since we need to minimize it, we can forget about the factor of $\\frac{1}{2m}$, so expanding, we get    \n",
    "\n",
    "$E(W) = W^{T}X^{T}XW - (XW)^{T}y - y^{T}(XW) + y^{T}y.$\n",
    "\n",
    "Notice that in the sum, the second and the third terms are the same, since it's the inner product of two vectors, which means it's the sum of the products of its coordinates. Therefore,\n",
    "\n",
    "$ E(W) =  W^{T}X^{T}XW - 2(XW)^{T}y + y^{T}y.$\n",
    "\n",
    "Now, to minimize this, we need to take the derivative with respect to all values in the matrix *W*. Using the chain rule, as we used above, we get the following:\n",
    "\n",
    "$ \\frac{\\partial E}{\\partial W} = 2X^{T}XW - 2X^{T}y = 0 $      \n",
    "\n",
    "And in order to set this equal to zero, we need\n",
    "\n",
    "$X^{T}XW - X^{T}y = 0 $, or equivalently,     \n",
    "\n",
    "$W = (X^{T}X)^{-1}X^{T}y$\n",
    "\n",
    "This are the required weights.\n",
    "\n",
    "This method is computationally intensive, since finding the inverse of the matrix $X^{T}X$ is hard, if the value of *n* is large. Alternatively, gradient descent is repeated many times."
   ]
  },
  {
   "cell_type": "markdown",
   "metadata": {},
   "source": [
    "# Gradient Descent\n",
    "\n",
    "The objective is to minimize the error between the point and estimated line.\n",
    "\n",
    "![alt text](GD.png \"SLR\")\n",
    "\n",
    "**Error function:**\n",
    "\n",
    "$w_i \\to w_i - \\alpha \\frac{\\partial }{\\partial w_i} Error $\n",
    "\n",
    "- The plot of the error function is a parabola with weights on x-axis and Error on the y-axis.\n",
    "- Way to descend from large error is to take the derivative or gradient of the Error function wrt the weights $w_i$.\n",
    "- The gradient points to the direction where the function increases the most. Therefore, the negative of this gradient is going to point down to the direction where the function decreases the most.\n",
    "- The error descends in the direction of the negative gradient. This means we change the weights $w_i$ to $w_i - \\alpha \\frac{\\partial }{\\partial w_i} Error $.\n",
    "- By multiplying the derivative of the Error term wrt the weights with learning rate $(\\alpha)$ the step-size is small.\n",
    "- This means that the error function is decreasing and we're closer to the minimum.\n",
    "- By doing this many times, the result is either a minimum or a pretty good value where the error is small which signifies a pretty good solution to the linear regression problem."
   ]
  },
  {
   "cell_type": "markdown",
   "metadata": {},
   "source": [
    "#### Mini Gradient Descent\n",
    "\n",
    "- The MAE/MSE minimization is applied to data points all at the same time and the process is repeated many times\n",
    "\n",
    "![alt text](batch.png \"batch\")"
   ]
  },
  {
   "cell_type": "markdown",
   "metadata": {},
   "source": [
    "#### Stochastic Gradient Descent\n",
    "\n",
    "- The MAE/MSE minimization is applied to data points one by one and the process is repeated many times\n",
    "\n",
    "![alt text](stochastic.png \"Stochastic\")"
   ]
  },
  {
   "cell_type": "markdown",
   "metadata": {},
   "source": [
    "#### Mini-Batch Gradient Descent\n",
    "\n",
    "- The MAE/MSE minimization is applied to data points into many small batches and the process is repeated many times. \n",
    "- Each batch will have roughly the same number of points and each batch is used to update the weights.\n",
    "\n",
    "![alt text](minibatch.png \"minibatch\")"
   ]
  },
  {
   "cell_type": "markdown",
   "metadata": {},
   "source": [
    "### Linear Regression Assumptions\n",
    "- Works best when the data is linear\n",
    "- Sensitive to outliers"
   ]
  },
  {
   "cell_type": "markdown",
   "metadata": {},
   "source": [
    "### Polynomial Regression\n",
    "\n",
    "Higher order polynomial equations to fit data following a non-linear trend.\n",
    "\n",
    "$ \\hat{y} = w_1x^3 + w_2x^2 + w_3x + w_4 $"
   ]
  },
  {
   "cell_type": "markdown",
   "metadata": {},
   "source": [
    "### Complexity of model\n",
    "\n",
    "Simpler models have a tendency to generalize better than complex models. To make complexity of model into account while measuring the error, regularization techniques are used.\n",
    "\n",
    "Total error = Error from misclassification + complexity\n",
    "\n",
    "#### L1 Regularization\n",
    "\n",
    "- Takes the coefficients of the model and adds the absolute values to the error.\n",
    "- Computationally inefficient, unless the data is sparse\n",
    "- Feature selection\n",
    "\n",
    "#### L2 Regularization\n",
    "\n",
    "- Takes the sum of squares of coefficients of the model and adds the value to the error.\n",
    "- Computationally efficient (computing derivatives of squares is efficient), good for non-sparse data"
   ]
  },
  {
   "cell_type": "markdown",
   "metadata": {},
   "source": [
    "## Examples"
   ]
  },
  {
   "cell_type": "code",
   "execution_count": 20,
   "metadata": {},
   "outputs": [
    {
     "name": "stdout",
     "output_type": "stream",
     "text": [
      "       Country  Life expectancy       BMI\n",
      "0  Afghanistan             52.8  20.62058\n",
      "1      Albania             76.8  26.44657\n",
      "2      Algeria             75.5  24.59620\n",
      "3      Andorra             84.6  27.63048\n",
      "4       Angola             56.7  22.25083\n",
      "Life expenctancy: [[60.31564716]]\n"
     ]
    }
   ],
   "source": [
    "# Add import statements\n",
    "import pandas as pd\n",
    "from sklearn.linear_model import LinearRegression\n",
    "\n",
    "# Assign the dataframe to this variable.\n",
    "# TODO: Load the data\n",
    "bmi_life_data = pd.read_csv('bmi_and_life_expectancy.csv')\n",
    "print(bmi_life_data.head())\n",
    "\n",
    "# Make and fit the linear regression model\n",
    "#TODO: Fit the model and Assign it to bmi_life_model\n",
    "bmi_life_model = LinearRegression()\n",
    "bmi_life_model.fit(bmi_life_data[['BMI']], bmi_life_data[['Life expectancy']])\n",
    "\n",
    "# Make a prediction using the model\n",
    "# TODO: Predict life expectancy for a BMI value of 21.07931\n",
    "laos_life_exp = bmi_life_model.predict([[21.07931]])\n",
    "print(\"Life expenctancy: {}\".format(laos_life_exp))"
   ]
  },
  {
   "cell_type": "code",
   "execution_count": 31,
   "metadata": {},
   "outputs": [
    {
     "name": "stdout",
     "output_type": "stream",
     "text": [
      "X values:\n",
      " [[6.320e-03 1.800e+01 2.310e+00 0.000e+00 5.380e-01 6.575e+00 6.520e+01\n",
      "  4.090e+00 1.000e+00 2.960e+02 1.530e+01 3.969e+02 4.980e+00]]\n",
      "\n",
      "Y values:\n",
      " [24.]\n",
      "\n",
      "Prediction:\n",
      " [23.68284712]\n"
     ]
    }
   ],
   "source": [
    "from sklearn.linear_model import LinearRegression\n",
    "from sklearn.datasets import load_boston\n",
    "\n",
    "# Load the data from the boston house-prices dataset\n",
    "boston_data = load_boston()\n",
    "x = boston_data['data']\n",
    "y = boston_data['target']\n",
    "print('X values:\\n {}'.format(x[:1]))\n",
    "print()\n",
    "print('Y values:\\n {}'.format(y[:1]))\n",
    "print()\n",
    "\n",
    "# Make and fit the linear regression model\n",
    "lr_model = LinearRegression()\n",
    "lr_model.fit(x,y)\n",
    "\n",
    "# Make a prediction using the model\n",
    "sample_house = [[2.29690000e-01, 0.00000000e+00, 1.05900000e+01, 0.00000000e+00, 4.89000000e-01,\n",
    "                6.32600000e+00, 5.25000000e+01, 4.35490000e+00, 4.00000000e+00, 2.77000000e+02,\n",
    "                1.86000000e+01, 3.94870000e+02, 1.09700000e+01]]\n",
    "\n",
    "# Predict housing price for the sample_house\n",
    "prediction = lr_model.predict(sample_house)\n",
    "print('Prediction:\\n {}'.format(prediction))"
   ]
  },
  {
   "cell_type": "markdown",
   "metadata": {},
   "source": [
    "-  http://facweb.cs.depaul.edu/mobasher/classes/csc478/Notes/IPython%20Notebook%20-%20Regression.html\n",
    "\n",
    "- https://stackoverflow.com/questions/34469237/linear-regression-and-gradient-descent-in-scikit-learn-pandas#"
   ]
  },
  {
   "cell_type": "code",
   "execution_count": 2,
   "metadata": {},
   "outputs": [],
   "source": [
    "from sklearn.model_selection import KFold\n",
    "from sklearn.linear_model import LinearRegression, Lasso, Ridge, ElasticNet, SGDRegressor\n",
    "import numpy as np\n",
    "import pylab as pl"
   ]
  },
  {
   "cell_type": "code",
   "execution_count": 5,
   "metadata": {},
   "outputs": [],
   "source": [
    "from sklearn.datasets import load_boston\n",
    "boston = load_boston()\n",
    "\n",
    "# In order to do multiple regression we need to add a column of 1s for x0\n",
    "x = np.array([np.concatenate((v,[1])) for v in boston.data])\n",
    "y = boston.target\n",
    "\n",
    "np.set_printoptions(precision=2, linewidth=120, suppress=True, edgeitems=4)"
   ]
  },
  {
   "cell_type": "code",
   "execution_count": 6,
   "metadata": {},
   "outputs": [
    {
     "data": {
      "text/plain": [
       "LinearRegression(copy_X=True, fit_intercept=True, n_jobs=None,\n",
       "         normalize=False)"
      ]
     },
     "execution_count": 6,
     "metadata": {},
     "output_type": "execute_result"
    }
   ],
   "source": [
    "# Create linear regression object\n",
    "linreg = LinearRegression()\n",
    "\n",
    "# Train the model using the training sets\n",
    "linreg.fit(x,y)"
   ]
  },
  {
   "cell_type": "code",
   "execution_count": 7,
   "metadata": {},
   "outputs": [
    {
     "name": "stdout",
     "output_type": "stream",
     "text": [
      "[30.   25.03 30.57 28.61 27.94 25.26 23.   19.54 11.52 18.92]\n"
     ]
    }
   ],
   "source": [
    "# Let's see predictions for the first 10 instances\n",
    "print(linreg.predict(x[:10]))"
   ]
  },
  {
   "cell_type": "code",
   "execution_count": 9,
   "metadata": {},
   "outputs": [
    {
     "name": "stdout",
     "output_type": "stream",
     "text": [
      "[6.   3.43 4.13 4.79 8.26 3.44 0.1  7.56 4.98 0.02]\n"
     ]
    }
   ],
   "source": [
    "# Compute RMSE on training data\n",
    "# p = np.array([linreg.predict(xi) for xi in x])\n",
    "p = linreg.predict(x)\n",
    "# Now we can constuct a vector of errors\n",
    "err = abs(p-y)\n",
    "\n",
    "# Let's see the error on the first 10 predictions\n",
    "print(err[:10])"
   ]
  },
  {
   "cell_type": "code",
   "execution_count": 10,
   "metadata": {},
   "outputs": [
    {
     "name": "stdout",
     "output_type": "stream",
     "text": [
      "4.679191295697281\n"
     ]
    }
   ],
   "source": [
    "# Dot product of error vector with itself gives us the sum of squared errors\n",
    "total_error = np.dot(err,err)\n",
    "# Compute RMSE\n",
    "rmse_train = np.sqrt(total_error/len(p))\n",
    "print(rmse_train)"
   ]
  },
  {
   "cell_type": "code",
   "execution_count": 12,
   "metadata": {},
   "outputs": [
    {
     "name": "stdout",
     "output_type": "stream",
     "text": [
      "Regression Coefficients: \n",
      " [ -0.11   0.05   0.02   2.69 -17.77   3.81   0.    -1.48   0.31  -0.01  -0.95   0.01  -0.52   0.  ]\n"
     ]
    }
   ],
   "source": [
    "# We can view the regression coefficients\n",
    "print('Regression Coefficients: \\n', linreg.coef_)"
   ]
  },
  {
   "cell_type": "code",
   "execution_count": 13,
   "metadata": {},
   "outputs": [
    {
     "data": {
      "image/png": "[encoded data removed]",
      "text/plain": [
       "<Figure size 432x288 with 1 Axes>"
      ]
     },
     "metadata": {
      "needs_background": "light"
     },
     "output_type": "display_data"
    }
   ],
   "source": [
    "# Plot outputs\n",
    "%matplotlib inline\n",
    "pl.plot(p, y,'ro')\n",
    "pl.plot([0,50],[0,50], 'g-')\n",
    "pl.xlabel('predicted')\n",
    "pl.ylabel('real')\n",
    "pl.show()"
   ]
  },
  {
   "cell_type": "markdown",
   "metadata": {},
   "source": [
    "#### Ridge Regression"
   ]
  },
  {
   "cell_type": "code",
   "execution_count": 14,
   "metadata": {},
   "outputs": [
    {
     "data": {
      "text/plain": [
       "Ridge(alpha=0.5, copy_X=True, fit_intercept=True, max_iter=None,\n",
       "   normalize=False, random_state=None, solver='auto', tol=0.001)"
      ]
     },
     "execution_count": 14,
     "metadata": {},
     "output_type": "execute_result"
    }
   ],
   "source": [
    "# Create linear regression object with a ridge coefficient 0.5\n",
    "ridge = Ridge(fit_intercept=True, alpha=0.5)\n",
    "\n",
    "# Train the model using the training set\n",
    "ridge.fit(x,y)"
   ]
  },
  {
   "cell_type": "code",
   "execution_count": 16,
   "metadata": {},
   "outputs": [
    {
     "name": "stdout",
     "output_type": "stream",
     "text": [
      "Method: Ridge Regression\n",
      "RMSE on training: 4.6854\n"
     ]
    }
   ],
   "source": [
    "# Compute RMSE on training data\n",
    "# p = np.array([ridge.predict(xi) for xi in x])\n",
    "p = ridge.predict(x)\n",
    "err = p-y\n",
    "total_error = np.dot(err,err)\n",
    "rmse_train = np.sqrt(total_error/len(p))\n",
    "\n",
    "method_name = 'Ridge Regression'\n",
    "print('Method: %s' %method_name)\n",
    "print('RMSE on training: %.4f' %rmse_train)"
   ]
  },
  {
   "cell_type": "markdown",
   "metadata": {},
   "source": [
    "#### Regression using Stochastic Gradeint Descent"
   ]
  },
  {
   "cell_type": "code",
   "execution_count": 19,
   "metadata": {},
   "outputs": [
    {
     "name": "stdout",
     "output_type": "stream",
     "text": [
      "Method: Stochastic Gradient Descent Regression\n",
      "RMSE on training: 4.8071\n"
     ]
    },
    {
     "name": "stderr",
     "output_type": "stream",
     "text": [
      "C:\\Users\\lsurampudi\\Anaconda3\\envs\\py36\\lib\\site-packages\\sklearn\\linear_model\\stochastic_gradient.py:183: FutureWarning: max_iter and tol parameters have been added in SGDRegressor in 0.19. If max_iter is set but tol is left unset, the default value for tol in 0.19 and 0.20 will be None (which is equivalent to -infinity, so it has no effect) but will change in 0.21 to 1e-3. Specify tol to silence this warning.\n",
      "  FutureWarning)\n"
     ]
    }
   ],
   "source": [
    "# SGD is very senstitive to varying-sized feature values. So, first we need to do feature scaling.\n",
    "\n",
    "from sklearn.preprocessing import StandardScaler\n",
    "\n",
    "scaler = StandardScaler()\n",
    "scaler.fit(x)\n",
    "x_s = scaler.transform(x)\n",
    "\n",
    "sgdreg = SGDRegressor(penalty='l2', alpha=0.15, max_iter=200)\n",
    "\n",
    "# Compute RMSE on training data\n",
    "sgdreg.fit(x_s,y)\n",
    "p = sgdreg.predict(x_s)\n",
    "err = p-y\n",
    "total_error = np.dot(err,err)\n",
    "rmse_train = np.sqrt(total_error/len(p))\n",
    "\n",
    "method_name = 'Stochastic Gradient Descent Regression'\n",
    "print('Method: %s' %method_name)\n",
    "print('RMSE on training: %.4f' %rmse_train)"
   ]
  },
  {
   "cell_type": "code",
   "execution_count": null,
   "metadata": {},
   "outputs": [],
   "source": []
  }
 ],
 "metadata": {
  "kernelspec": {
   "display_name": "Python3.6",
   "language": "python",
   "name": "python3"
  },
  "language_info": {
   "codemirror_mode": {
    "name": "ipython",
    "version": 3
   },
   "file_extension": ".py",
   "mimetype": "text/x-python",
   "name": "python",
   "nbconvert_exporter": "python",
   "pygments_lexer": "ipython3",
   "version": "3.6.7"
  }
 },
 "nbformat": 4,
 "nbformat_minor": 2
}
