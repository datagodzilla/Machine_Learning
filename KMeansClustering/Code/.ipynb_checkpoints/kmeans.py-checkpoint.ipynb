{
 "cells": [
  {
   "cell_type": "markdown",
   "metadata": {},
   "source": [
    "# K Means Clustering"
   ]
  },
  {
   "cell_type": "markdown",
   "metadata": {},
   "source": [
    "## What is K means Clustering?\n",
    "\n",
    "- Clustering is a typical and well-known type of unsupervised learning. \n",
    "- Clustering algorithms try to find natural groupings in data. \n",
    "- Similar data points (according to some notion of similarity) are considered in the same group. We call these groups clusters.\n",
    "- K-Means clustering is a simple and widely-used clustering algorithm. Given value of  k , it tries to build  k  clusters from samples in the dataset. "
   ]
  },
  {
   "cell_type": "markdown",
   "metadata": {},
   "source": [
    "### How does it work ?\n",
    "\n",
    "Given the value of K clusters, the K-means algorithm works as follows:\n",
    "1. Randomly choose  K  data points (seeds) to be the initial centroids.\n",
    "2. Cluster assignment step:\n",
    "   - Assign each data point to the closest centroid\n",
    "3. Move centroid step:\n",
    "   - Re-compute (update) the centroids using the current cluster memberships by taking the mean of the observations for each cluster.\n",
    "   - If a convergence criterion is not met or n-iterations are not completed, go to step 2\n",
    "\n",
    "\n",
    "- We can also terminate the algorithm when it reaches an iteration budget, which yields an approximate result.\n",
    "- The algorithm is sensitive to the order in which data samples are explored, so run it several times to get varied orders, then average the cluster centers from each run and input those centers as ones for one final run analysis."
   ]
  },
  {
   "cell_type": "markdown",
   "metadata": {},
   "source": [
    "### How to determine the best value for k? \n",
    "\n",
    "Do you know how many classes you want to find? Use that as K. \n",
    "\n",
    "If not, The Elbow Method is a very popular way.\n"
   ]
  },
  {
   "cell_type": "markdown",
   "metadata": {},
   "source": [
    "### How is the distance between centroids and data points measured?\n",
    "\n",
    "The Euclidean distance! Because K-means minimizes within-cluster variance and if you look at the definition of variance, it is identical to the sum of squared Euclidean distances from the center. Other distances are possible, euclidean is by far the most popular. "
   ]
  },
  {
   "cell_type": "markdown",
   "metadata": {},
   "source": [
    "## When should I use it?\n",
    "\n",
    "- Your data is numeric. It doesn't work with categorical features. We're computing the distance between real numbers!\n",
    "- If you don't have labels for your data\n",
    "- K-means is the simplest. To implement and to run. All you need to do is choose \"k\" and run it a number of times.\n",
    "- K-means and other clustering algorithms shine when you have multivariate data. They will \"work\" with 1-dimensional data, but they are not very smart anymore.\n",
    "- useful when you have an idea of how many clusters actually exists in your space. "
   ]
  },
  {
   "cell_type": "markdown",
   "metadata": {},
   "source": [
    "## Other examples\n",
    "\n",
    "- https://github.com/georgymh/ml-fraud-detection (Fraud Detection)\n",
    "- https://github.com/Datamine/MNIST-K-Means-Clustering/blob/master/Kmeans.ipynb (MNIST without labels (finally)) "
   ]
  },
  {
   "cell_type": "code",
   "execution_count": 1,
   "metadata": {
    "collapsed": true
   },
   "outputs": [],
   "source": [
    "#matrix math\n",
    "import numpy as np\n",
    "\n",
    "#graphing\n",
    "import matplotlib.pyplot as plt\n",
    "\n",
    "#graphing animation\n",
    "import matplotlib.animation as animation"
   ]
  },
  {
   "cell_type": "code",
   "execution_count": 2,
   "metadata": {
    "collapsed": true
   },
   "outputs": [],
   "source": [
    "#load textfile dataset (2D data points)\n",
    "# for each user, how many packets are sent per second and what's the size of a packet\n",
    "#anomalies (DDOS attempts) will have lots of big packets sent in a short amount of time \n",
    "def load_dataset(name):\n",
    "    return np.loadtxt(name)"
   ]
  },
  {
   "cell_type": "markdown",
   "metadata": {},
   "source": [
    "![alt text](https://wikimedia.org/api/rest_v1/media/math/render/svg/dc0281a964ec758cca02ab9ef91a7f54ac00d4b7 \"Logo Title Text 1\")\n"
   ]
  },
  {
   "cell_type": "code",
   "execution_count": 19,
   "metadata": {
    "collapsed": true
   },
   "outputs": [],
   "source": [
    "#euclidian distance between 2 data points. For as many data points as necessary. \n",
    "def euclidian(a, b):\n",
    "    return np.linalg.norm(a-b)"
   ]
  },
  {
   "cell_type": "markdown",
   "metadata": {},
   "source": [
    "#### k-means algorithm \n",
    "With the above steps, since we needed to build our algorithm, which will receive as parameters:\n",
    "\n",
    "\n",
    "- K: The number of clusters (required)\n",
    "- epsilon: The minimum error to be used in the stop condition (optional, default == 0)\n",
    "- Distance method: The method is used to calculate the distance (Optional defalut == 0)\n",
    "\n",
    "And has the return:\n",
    "- the centroids\n",
    "- The evolution history of centroids\n",
    "- And the membership vector of each instance with its respective centroid."
   ]
  },
  {
   "cell_type": "code",
   "execution_count": 65,
   "metadata": {},
   "outputs": [],
   "source": [
    "def load_dataset(name):\n",
    "    return np.loadtxt(name)"
   ]
  },
  {
   "cell_type": "code",
   "execution_count": 97,
   "metadata": {},
   "outputs": [],
   "source": [
    "from scipy.spatial import distance\n",
    "\n",
    "\n",
    "#def euclidian(data):\n",
    "#    a, b = data\n",
    "#    return numpy.linalg.norm(a-b, axis=1)\n",
    "\n",
    "def euclidian(a,b):\n",
    "    return np.sqrt(np.sum((a-b)**2))"
   ]
  },
  {
   "cell_type": "code",
   "execution_count": 85,
   "metadata": {},
   "outputs": [
    {
     "data": {
      "text/plain": [
       "(40, 2)"
      ]
     },
     "execution_count": 85,
     "metadata": {},
     "output_type": "execute_result"
    }
   ],
   "source": [
    "dataset = load_dataset('durudataset.txt')\n",
    "dataset.shape"
   ]
  },
  {
   "cell_type": "code",
   "execution_count": 86,
   "metadata": {},
   "outputs": [
    {
     "data": {
      "text/plain": [
       "array([[0.19670575, 0.26617497],\n",
       "       [0.41328699, 0.35582835],\n",
       "       [0.33843555, 0.43573826],\n",
       "       [0.10380152, 0.16434481],\n",
       "       [0.15905236, 0.32505901],\n",
       "       [0.06690549, 0.48741807],\n",
       "       [0.33573144, 0.03798368],\n",
       "       [0.28549554, 0.29350958],\n",
       "       [0.08488353, 0.20694325],\n",
       "       [0.07382789, 0.15456821],\n",
       "       [0.23803986, 0.13191702],\n",
       "       [0.45405121, 0.37938313],\n",
       "       [0.27608751, 0.49760799],\n",
       "       [0.01646995, 0.09328572],\n",
       "       [0.02693146, 0.39057263],\n",
       "       [0.40253161, 0.09789899],\n",
       "       [0.22568743, 0.49617949],\n",
       "       [0.19132311, 0.40113078],\n",
       "       [0.39482185, 0.21211335],\n",
       "       [0.18214343, 0.36443193],\n",
       "       [1.49835358, 1.40350139],\n",
       "       [1.80899027, 1.93497909],\n",
       "       [1.35650893, 1.47948455],\n",
       "       [1.07324343, 1.23179161],\n",
       "       [1.59099146, 1.39629025],\n",
       "       [1.91018783, 1.70507748],\n",
       "       [1.19376594, 1.55855903],\n",
       "       [1.43236779, 1.7566307 ],\n",
       "       [1.74915973, 1.99548106],\n",
       "       [1.03918449, 1.9624314 ],\n",
       "       [1.94632499, 1.53506711],\n",
       "       [1.76367332, 1.96387013],\n",
       "       [1.55882055, 1.11562588],\n",
       "       [1.18384294, 1.05144829],\n",
       "       [1.49794882, 1.30434895],\n",
       "       [1.5178456 , 1.58019183],\n",
       "       [1.99424301, 1.53096445],\n",
       "       [1.85485168, 1.90120809],\n",
       "       [1.96240394, 1.54055043],\n",
       "       [1.67894101, 1.43198061]])"
      ]
     },
     "execution_count": 86,
     "metadata": {},
     "output_type": "execute_result"
    }
   ],
   "source": [
    "dataset"
   ]
  },
  {
   "cell_type": "code",
   "execution_count": 87,
   "metadata": {},
   "outputs": [
    {
     "name": "stdout",
     "output_type": "stream",
     "text": [
      "40 2\n"
     ]
    }
   ],
   "source": [
    "num_instances, num_features = dataset.shape\n",
    "print(num_instances, num_features)"
   ]
  },
  {
   "cell_type": "code",
   "execution_count": 88,
   "metadata": {},
   "outputs": [
    {
     "data": {
      "text/plain": [
       "array([[1.07324343, 1.23179161],\n",
       "       [1.49835358, 1.40350139]])"
      ]
     },
     "execution_count": 88,
     "metadata": {},
     "output_type": "execute_result"
    }
   ],
   "source": [
    "k = 2\n",
    "prototypes = dataset[np.random.randint(0, num_instances - 1, size=k)]\n",
    "prototypes"
   ]
  },
  {
   "cell_type": "code",
   "execution_count": 89,
   "metadata": {},
   "outputs": [
    {
     "data": {
      "text/plain": [
       "array([[0., 0.],\n",
       "       [0., 0.]])"
      ]
     },
     "execution_count": 89,
     "metadata": {},
     "output_type": "execute_result"
    }
   ],
   "source": [
    "prototypes_old = np.zeros(prototypes.shape)\n",
    "prototypes_old"
   ]
  },
  {
   "cell_type": "code",
   "execution_count": 93,
   "metadata": {},
   "outputs": [
    {
     "data": {
      "text/plain": [
       "array([[1.07324343, 1.23179161],\n",
       "       [1.49835358, 1.40350139]])"
      ]
     },
     "execution_count": 93,
     "metadata": {},
     "output_type": "execute_result"
    }
   ],
   "source": [
    "prototypes"
   ]
  },
  {
   "cell_type": "code",
   "execution_count": 94,
   "metadata": {},
   "outputs": [
    {
     "data": {
      "text/plain": [
       "array([[0., 0.],\n",
       "       [0., 0.]])"
      ]
     },
     "execution_count": 94,
     "metadata": {},
     "output_type": "execute_result"
    }
   ],
   "source": [
    "prototypes_old"
   ]
  },
  {
   "cell_type": "code",
   "execution_count": 99,
   "metadata": {},
   "outputs": [],
   "source": [
    "belongs_to = np.zeros((num_instances, 1))\n",
    "norm = euclidian(prototypes, prototypes_old)"
   ]
  },
  {
   "cell_type": "code",
   "execution_count": 100,
   "metadata": {},
   "outputs": [
    {
     "data": {
      "text/plain": [
       "2.6237457290819997"
      ]
     },
     "execution_count": 100,
     "metadata": {},
     "output_type": "execute_result"
    }
   ],
   "source": [
    "norm"
   ]
  },
  {
   "cell_type": "markdown",
   "metadata": {},
   "source": [
    "## Definitions\n",
    "\n",
    "1. Norm is the is the distance function we are trying to minimize ${||x^{(i)} - \\mu_{k}||}^2$\n",
    "\n",
    "where, $\\mu_k$ is the centroid that is closest distance to the observation $x^{(i)}$"
   ]
  },
  {
   "cell_type": "code",
   "execution_count": 118,
   "metadata": {},
   "outputs": [
    {
     "ename": "KeyboardInterrupt",
     "evalue": "",
     "output_type": "error",
     "traceback": [
      "\u001b[0;31m---------------------------------------------------------------------------\u001b[0m",
      "\u001b[0;31mKeyboardInterrupt\u001b[0m                         Traceback (most recent call last)",
      "\u001b[0;32m<ipython-input-118-ed57519325d8>\u001b[0m in \u001b[0;36m<module>\u001b[0;34m\u001b[0m\n\u001b[1;32m     12\u001b[0m         \u001b[0;32mfor\u001b[0m \u001b[0mindex_prototype\u001b[0m\u001b[0;34m,\u001b[0m \u001b[0mprototype\u001b[0m \u001b[0;32min\u001b[0m \u001b[0menumerate\u001b[0m\u001b[0;34m(\u001b[0m\u001b[0mprototypes\u001b[0m\u001b[0;34m)\u001b[0m\u001b[0;34m:\u001b[0m\u001b[0;34m\u001b[0m\u001b[0;34m\u001b[0m\u001b[0m\n\u001b[1;32m     13\u001b[0m             \u001b[0;31m#compute the distance between x and centroid\u001b[0m\u001b[0;34m\u001b[0m\u001b[0;34m\u001b[0m\u001b[0;34m\u001b[0m\u001b[0m\n\u001b[0;32m---> 14\u001b[0;31m             \u001b[0mdist_vec\u001b[0m\u001b[0;34m[\u001b[0m\u001b[0mindex_prototype\u001b[0m\u001b[0;34m]\u001b[0m \u001b[0;34m=\u001b[0m \u001b[0meuclidian\u001b[0m\u001b[0;34m(\u001b[0m\u001b[0mprototype\u001b[0m\u001b[0;34m,\u001b[0m \u001b[0minstance\u001b[0m\u001b[0;34m)\u001b[0m\u001b[0;34m\u001b[0m\u001b[0;34m\u001b[0m\u001b[0m\n\u001b[0m\u001b[1;32m     15\u001b[0m         \u001b[0;31m#find the smallest distance, assign that distance to a cluster\u001b[0m\u001b[0;34m\u001b[0m\u001b[0;34m\u001b[0m\u001b[0;34m\u001b[0m\u001b[0m\n\u001b[1;32m     16\u001b[0m         \u001b[0mbelongs_to\u001b[0m\u001b[0;34m[\u001b[0m\u001b[0mindex_instance\u001b[0m\u001b[0;34m,\u001b[0m \u001b[0;36m0\u001b[0m\u001b[0;34m]\u001b[0m \u001b[0;34m=\u001b[0m \u001b[0mnp\u001b[0m\u001b[0;34m.\u001b[0m\u001b[0margmin\u001b[0m\u001b[0;34m(\u001b[0m\u001b[0mdist_vec\u001b[0m\u001b[0;34m)\u001b[0m\u001b[0;34m\u001b[0m\u001b[0;34m\u001b[0m\u001b[0m\n",
      "\u001b[0;32m<ipython-input-97-3a7ee8fb9719>\u001b[0m in \u001b[0;36meuclidian\u001b[0;34m(a, b)\u001b[0m\n\u001b[1;32m      7\u001b[0m \u001b[0;34m\u001b[0m\u001b[0m\n\u001b[1;32m      8\u001b[0m \u001b[0;32mdef\u001b[0m \u001b[0meuclidian\u001b[0m\u001b[0;34m(\u001b[0m\u001b[0ma\u001b[0m\u001b[0;34m,\u001b[0m\u001b[0mb\u001b[0m\u001b[0;34m)\u001b[0m\u001b[0;34m:\u001b[0m\u001b[0;34m\u001b[0m\u001b[0;34m\u001b[0m\u001b[0m\n\u001b[0;32m----> 9\u001b[0;31m     \u001b[0;32mreturn\u001b[0m \u001b[0mnp\u001b[0m\u001b[0;34m.\u001b[0m\u001b[0msqrt\u001b[0m\u001b[0;34m(\u001b[0m\u001b[0mnp\u001b[0m\u001b[0;34m.\u001b[0m\u001b[0msum\u001b[0m\u001b[0;34m(\u001b[0m\u001b[0;34m(\u001b[0m\u001b[0ma\u001b[0m\u001b[0;34m-\u001b[0m\u001b[0mb\u001b[0m\u001b[0;34m)\u001b[0m\u001b[0;34m**\u001b[0m\u001b[0;36m2\u001b[0m\u001b[0;34m)\u001b[0m\u001b[0;34m)\u001b[0m\u001b[0;34m\u001b[0m\u001b[0;34m\u001b[0m\u001b[0m\n\u001b[0m",
      "\u001b[0;32m/Users/wolverine/anaconda/envs/py36/lib/python3.6/site-packages/numpy/core/fromnumeric.py\u001b[0m in \u001b[0;36msum\u001b[0;34m(a, axis, dtype, out, keepdims, initial)\u001b[0m\n\u001b[1;32m   1928\u001b[0m \u001b[0;34m\u001b[0m\u001b[0m\n\u001b[1;32m   1929\u001b[0m     return _wrapreduction(a, np.add, 'sum', axis, dtype, out, keepdims=keepdims,\n\u001b[0;32m-> 1930\u001b[0;31m                           initial=initial)\n\u001b[0m\u001b[1;32m   1931\u001b[0m \u001b[0;34m\u001b[0m\u001b[0m\n\u001b[1;32m   1932\u001b[0m \u001b[0;34m\u001b[0m\u001b[0m\n",
      "\u001b[0;32m/Users/wolverine/anaconda/envs/py36/lib/python3.6/site-packages/numpy/core/fromnumeric.py\u001b[0m in \u001b[0;36m_wrapreduction\u001b[0;34m(obj, ufunc, method, axis, dtype, out, **kwargs)\u001b[0m\n\u001b[1;32m     81\u001b[0m                 \u001b[0;32mreturn\u001b[0m \u001b[0mreduction\u001b[0m\u001b[0;34m(\u001b[0m\u001b[0maxis\u001b[0m\u001b[0;34m=\u001b[0m\u001b[0maxis\u001b[0m\u001b[0;34m,\u001b[0m \u001b[0mout\u001b[0m\u001b[0;34m=\u001b[0m\u001b[0mout\u001b[0m\u001b[0;34m,\u001b[0m \u001b[0;34m**\u001b[0m\u001b[0mpasskwargs\u001b[0m\u001b[0;34m)\u001b[0m\u001b[0;34m\u001b[0m\u001b[0;34m\u001b[0m\u001b[0m\n\u001b[1;32m     82\u001b[0m \u001b[0;34m\u001b[0m\u001b[0m\n\u001b[0;32m---> 83\u001b[0;31m     \u001b[0;32mreturn\u001b[0m \u001b[0mufunc\u001b[0m\u001b[0;34m.\u001b[0m\u001b[0mreduce\u001b[0m\u001b[0;34m(\u001b[0m\u001b[0mobj\u001b[0m\u001b[0;34m,\u001b[0m \u001b[0maxis\u001b[0m\u001b[0;34m,\u001b[0m \u001b[0mdtype\u001b[0m\u001b[0;34m,\u001b[0m \u001b[0mout\u001b[0m\u001b[0;34m,\u001b[0m \u001b[0;34m**\u001b[0m\u001b[0mpasskwargs\u001b[0m\u001b[0;34m)\u001b[0m\u001b[0;34m\u001b[0m\u001b[0;34m\u001b[0m\u001b[0m\n\u001b[0m\u001b[1;32m     84\u001b[0m \u001b[0;34m\u001b[0m\u001b[0m\n\u001b[1;32m     85\u001b[0m \u001b[0;34m\u001b[0m\u001b[0m\n",
      "\u001b[0;31mKeyboardInterrupt\u001b[0m: "
     ]
    }
   ],
   "source": [
    "iteration = 0\n",
    "epsilon=0\n",
    "    \n",
    "while norm > epsilon:\n",
    "    iteration += 1\n",
    "    norm = euclidian(prototypes, prototypes_old)\n",
    "    #for each instance in the dataset\n",
    "    for index_instance, instance in enumerate(dataset):\n",
    "        #define a distance vector of size k\n",
    "        dist_vec = np.zeros((k,1))\n",
    "        #for each centroid\n",
    "        for index_prototype, prototype in enumerate(prototypes):\n",
    "            #compute the distance between x and centroid\n",
    "            dist_vec[index_prototype] = euclidian(prototype, instance)\n",
    "        #find the smallest distance, assign that distance to a cluster\n",
    "        belongs_to[index_instance, 0] = np.argmin(dist_vec)"
   ]
  },
  {
   "cell_type": "code",
   "execution_count": 165,
   "metadata": {
    "collapsed": true
   },
   "outputs": [],
   "source": [
    "#import functions\n",
    "from scipy.spatial import distance\n",
    "\n",
    "def euclidian(a,b):\n",
    "    return np.sqrt(np.sum((a-b)**2))\n",
    "\n",
    "def load_dataset(name):\n",
    "    return np.loadtxt(name)\n",
    "\n",
    "def kmeans(k, epsilon=0.01):#, dist_method='euclidian'):\n",
    "    #list to store past centroid\n",
    "    history_centroids = []\n",
    "    \n",
    "    # Set the distance calculation type \n",
    "    #if distance == 'euclidian':\n",
    "    #    dist_method = euclidian()\n",
    "        \n",
    "    # Load the dataset\n",
    "    dataset = load_dataset('./durudataset.txt')\n",
    "    print('Dataset size: {}'.format(dataset.shape))\n",
    "    \n",
    "    # dataset = dataset[:, 0:dataset.shape[1] - 1]\n",
    "    # Get the number of rows (instances) and columns (features) from the dataset\n",
    "    num_instances, num_features = dataset.shape\n",
    "    \n",
    "    # Randomly choose K observations from the dataset as centroids (K clusters)\n",
    "    centroids_new = dataset[np.random.randint(0, num_instances - 1, size=k)]\n",
    "    print(\"===\")\n",
    "    print('New centroids: {}'.format(centroids_new))\n",
    "    \n",
    "    # Append these centroids to our list of past centroids (to show progress over time)\n",
    "    history_centroids.append(centroids_new)\n",
    "    print(\"===\")\n",
    "    print('History centroids: {}'.format(history_centroids))\n",
    "    \n",
    "    # Keep track of centroids at every iteration\n",
    "    # Initialize an array for storing centroids\n",
    "    centroids_old = np.zeros(centroids_new.shape)\n",
    "    print('===')\n",
    "    print('Old centroids: {}'.format(centroids_old))\n",
    "\n",
    "    \n",
    "    # Store clusters\n",
    "    # Belongs to has shape of m-rows and 1 column\n",
    "    # Initialize an array of size = dataset rows\n",
    "    belongs_to = np.zeros((num_instances, 1))\n",
    "    \n",
    "    # Calculate distance between old and new centroids\n",
    "    norm = euclidian(centroids_new, centroids_old)\n",
    "    print('===')\n",
    "    print('Distance new and old centroids: {}'.format(norm))\n",
    "    \n",
    "    \n",
    "    iteration = 0\n",
    "    max_iter = 50\n",
    "    # While the distance between new and old centroids is > tolerance\n",
    "    while (norm > epsilon) and (iteration < max_iter):\n",
    "        iteration += 1\n",
    "        print('===')\n",
    "        print('Iteration: {}'.format(iteration))\n",
    "        \n",
    "        # Calculate distance between new and old centroids\n",
    "        norm = euclidian(centroids_new, centroids_old)\n",
    "        print('Distance new and old centroids: {}'.format(norm))\n",
    "        \n",
    "        # For each instance in the dataset\n",
    "        for index_instance, instance in enumerate(dataset):\n",
    "            # Initialize a distance vector of size k\n",
    "            dist_vec = np.zeros((k,1))\n",
    "            \n",
    "            # For each centroid\n",
    "            for index_centroids,  centroid in enumerate(centroids_new):\n",
    "                # Compute the distance between x and centroid\n",
    "                dist_vec[index_centroids] = euclidian(centroid, instance)\n",
    "            # Find the smallest distance, assign that distance to a cluster\n",
    "            belongs_to[index_instance, 0] = np.argmin(dist_vec)\n",
    "            \n",
    "        tmp_centroids = np.zeros((k, num_features))\n",
    "        # For each cluster (k of them)\n",
    "        for index in range(len(centroids_new)):\n",
    "            # Get all the points assigned to a cluster\n",
    "            instances_bycentroid = [i for i in range(len(belongs_to)) if belongs_to[i] == index]\n",
    "            \n",
    "            # Find the mean of those points, this is our new centroid\n",
    "            centroid = np.mean(dataset[instances_bycentroid], axis=0)\n",
    "            \n",
    "            # Add our new centroid to our new temporary list\n",
    "            tmp_centroids[index, :] = centroid\n",
    "        \n",
    "        # Set the new list to the current list\n",
    "        centroids_new = tmp_centroids\n",
    "        print('New centroids: {}'.format(centroids_new))\n",
    "        \n",
    "        # Add our calculated centroids to our history for plotting\n",
    "        history_centroids.append(tmp_centroids)\n",
    "\n",
    "    # Return calculated centroids, history of them all, and assignments for which cluster each datapoint belongs to\n",
    "    print('New Centroids: {}'.format(centroids_new))\n",
    "    print('===')\n",
    "    print('History of centroids: {}'.format(history_centroids))\n",
    "    print('===')\n",
    "    print('Final norm: {}'.format(norm))\n",
    "    return centroids_new, history_centroids, belongs_to"
   ]
  },
  {
   "cell_type": "code",
   "execution_count": null,
   "metadata": {},
   "outputs": [],
   "source": []
  },
  {
   "cell_type": "code",
   "execution_count": 166,
   "metadata": {},
   "outputs": [
    {
     "name": "stdout",
     "output_type": "stream",
     "text": [
      "Dataset size: (40, 2)\n",
      "===\n",
      "New centroids: [[1.94632499 1.53506711]\n",
      " [0.06690549 0.48741807]]\n",
      "===\n",
      "History centroids: [array([[1.94632499, 1.53506711],\n",
      "       [0.06690549, 0.48741807]])]\n",
      "===\n",
      "Old centroids: [[0. 0.]\n",
      " [0. 0.]]\n",
      "===\n",
      "Distance new and old centroids: 2.527185135164129\n",
      "===\n",
      "Iteration: 1\n",
      "Distance new and old centroids: 2.527185135164129\n",
      "New centroids: [[1.58058247 1.56897412]\n",
      " [0.22331067 0.28960446]]\n",
      "===\n",
      "Iteration: 2\n",
      "Distance new and old centroids: 2.256913624832274\n",
      "New centroids: [[1.58058247 1.56897412]\n",
      " [0.22331067 0.28960446]]\n",
      "===\n",
      "Iteration: 3\n",
      "Distance new and old centroids: 2.256913624832274\n",
      "New centroids: [[1.58058247 1.56897412]\n",
      " [0.22331067 0.28960446]]\n",
      "===\n",
      "Iteration: 4\n",
      "Distance new and old centroids: 2.256913624832274\n",
      "New centroids: [[1.58058247 1.56897412]\n",
      " [0.22331067 0.28960446]]\n",
      "===\n",
      "Iteration: 5\n",
      "Distance new and old centroids: 2.256913624832274\n",
      "New centroids: [[1.58058247 1.56897412]\n",
      " [0.22331067 0.28960446]]\n",
      "===\n",
      "Iteration: 6\n",
      "Distance new and old centroids: 2.256913624832274\n",
      "New centroids: [[1.58058247 1.56897412]\n",
      " [0.22331067 0.28960446]]\n",
      "===\n",
      "Iteration: 7\n",
      "Distance new and old centroids: 2.256913624832274\n",
      "New centroids: [[1.58058247 1.56897412]\n",
      " [0.22331067 0.28960446]]\n",
      "===\n",
      "Iteration: 8\n",
      "Distance new and old centroids: 2.256913624832274\n",
      "New centroids: [[1.58058247 1.56897412]\n",
      " [0.22331067 0.28960446]]\n",
      "===\n",
      "Iteration: 9\n",
      "Distance new and old centroids: 2.256913624832274\n",
      "New centroids: [[1.58058247 1.56897412]\n",
      " [0.22331067 0.28960446]]\n",
      "===\n",
      "Iteration: 10\n",
      "Distance new and old centroids: 2.256913624832274\n",
      "New centroids: [[1.58058247 1.56897412]\n",
      " [0.22331067 0.28960446]]\n",
      "===\n",
      "Iteration: 11\n",
      "Distance new and old centroids: 2.256913624832274\n",
      "New centroids: [[1.58058247 1.56897412]\n",
      " [0.22331067 0.28960446]]\n",
      "===\n",
      "Iteration: 12\n",
      "Distance new and old centroids: 2.256913624832274\n",
      "New centroids: [[1.58058247 1.56897412]\n",
      " [0.22331067 0.28960446]]\n",
      "===\n",
      "Iteration: 13\n",
      "Distance new and old centroids: 2.256913624832274\n",
      "New centroids: [[1.58058247 1.56897412]\n",
      " [0.22331067 0.28960446]]\n",
      "===\n",
      "Iteration: 14\n",
      "Distance new and old centroids: 2.256913624832274\n",
      "New centroids: [[1.58058247 1.56897412]\n",
      " [0.22331067 0.28960446]]\n",
      "===\n",
      "Iteration: 15\n",
      "Distance new and old centroids: 2.256913624832274\n",
      "New centroids: [[1.58058247 1.56897412]\n",
      " [0.22331067 0.28960446]]\n",
      "===\n",
      "Iteration: 16\n",
      "Distance new and old centroids: 2.256913624832274\n",
      "New centroids: [[1.58058247 1.56897412]\n",
      " [0.22331067 0.28960446]]\n",
      "===\n",
      "Iteration: 17\n",
      "Distance new and old centroids: 2.256913624832274\n",
      "New centroids: [[1.58058247 1.56897412]\n",
      " [0.22331067 0.28960446]]\n",
      "===\n",
      "Iteration: 18\n",
      "Distance new and old centroids: 2.256913624832274\n",
      "New centroids: [[1.58058247 1.56897412]\n",
      " [0.22331067 0.28960446]]\n",
      "===\n",
      "Iteration: 19\n",
      "Distance new and old centroids: 2.256913624832274\n",
      "New centroids: [[1.58058247 1.56897412]\n",
      " [0.22331067 0.28960446]]\n",
      "===\n",
      "Iteration: 20\n",
      "Distance new and old centroids: 2.256913624832274\n",
      "New centroids: [[1.58058247 1.56897412]\n",
      " [0.22331067 0.28960446]]\n",
      "===\n",
      "Iteration: 21\n",
      "Distance new and old centroids: 2.256913624832274\n",
      "New centroids: [[1.58058247 1.56897412]\n",
      " [0.22331067 0.28960446]]\n",
      "===\n",
      "Iteration: 22\n",
      "Distance new and old centroids: 2.256913624832274\n",
      "New centroids: [[1.58058247 1.56897412]\n",
      " [0.22331067 0.28960446]]\n",
      "===\n",
      "Iteration: 23\n",
      "Distance new and old centroids: 2.256913624832274\n",
      "New centroids: [[1.58058247 1.56897412]\n",
      " [0.22331067 0.28960446]]\n",
      "===\n",
      "Iteration: 24\n",
      "Distance new and old centroids: 2.256913624832274\n",
      "New centroids: [[1.58058247 1.56897412]\n",
      " [0.22331067 0.28960446]]\n",
      "===\n",
      "Iteration: 25\n",
      "Distance new and old centroids: 2.256913624832274\n",
      "New centroids: [[1.58058247 1.56897412]\n",
      " [0.22331067 0.28960446]]\n",
      "===\n",
      "Iteration: 26\n",
      "Distance new and old centroids: 2.256913624832274\n",
      "New centroids: [[1.58058247 1.56897412]\n",
      " [0.22331067 0.28960446]]\n",
      "===\n",
      "Iteration: 27\n",
      "Distance new and old centroids: 2.256913624832274\n",
      "New centroids: [[1.58058247 1.56897412]\n",
      " [0.22331067 0.28960446]]\n",
      "===\n",
      "Iteration: 28\n",
      "Distance new and old centroids: 2.256913624832274\n",
      "New centroids: [[1.58058247 1.56897412]\n",
      " [0.22331067 0.28960446]]\n",
      "===\n",
      "Iteration: 29\n",
      "Distance new and old centroids: 2.256913624832274\n",
      "New centroids: [[1.58058247 1.56897412]\n",
      " [0.22331067 0.28960446]]\n",
      "===\n",
      "Iteration: 30\n",
      "Distance new and old centroids: 2.256913624832274\n",
      "New centroids: [[1.58058247 1.56897412]\n",
      " [0.22331067 0.28960446]]\n",
      "===\n",
      "Iteration: 31\n",
      "Distance new and old centroids: 2.256913624832274\n",
      "New centroids: [[1.58058247 1.56897412]\n",
      " [0.22331067 0.28960446]]\n",
      "===\n",
      "Iteration: 32\n",
      "Distance new and old centroids: 2.256913624832274\n",
      "New centroids: [[1.58058247 1.56897412]\n",
      " [0.22331067 0.28960446]]\n",
      "===\n",
      "Iteration: 33\n",
      "Distance new and old centroids: 2.256913624832274\n",
      "New centroids: [[1.58058247 1.56897412]\n",
      " [0.22331067 0.28960446]]\n",
      "===\n",
      "Iteration: 34\n",
      "Distance new and old centroids: 2.256913624832274\n",
      "New centroids: [[1.58058247 1.56897412]\n",
      " [0.22331067 0.28960446]]\n",
      "===\n",
      "Iteration: 35\n",
      "Distance new and old centroids: 2.256913624832274\n",
      "New centroids: [[1.58058247 1.56897412]\n",
      " [0.22331067 0.28960446]]\n",
      "===\n",
      "Iteration: 36\n",
      "Distance new and old centroids: 2.256913624832274\n",
      "New centroids: [[1.58058247 1.56897412]\n",
      " [0.22331067 0.28960446]]\n",
      "===\n",
      "Iteration: 37\n",
      "Distance new and old centroids: 2.256913624832274\n",
      "New centroids: [[1.58058247 1.56897412]\n",
      " [0.22331067 0.28960446]]\n",
      "===\n",
      "Iteration: 38\n",
      "Distance new and old centroids: 2.256913624832274\n",
      "New centroids: [[1.58058247 1.56897412]\n",
      " [0.22331067 0.28960446]]\n",
      "===\n",
      "Iteration: 39\n",
      "Distance new and old centroids: 2.256913624832274\n",
      "New centroids: [[1.58058247 1.56897412]\n",
      " [0.22331067 0.28960446]]\n",
      "===\n",
      "Iteration: 40\n",
      "Distance new and old centroids: 2.256913624832274\n",
      "New centroids: [[1.58058247 1.56897412]\n",
      " [0.22331067 0.28960446]]\n",
      "===\n",
      "Iteration: 41\n",
      "Distance new and old centroids: 2.256913624832274\n",
      "New centroids: [[1.58058247 1.56897412]\n",
      " [0.22331067 0.28960446]]\n",
      "===\n",
      "Iteration: 42\n",
      "Distance new and old centroids: 2.256913624832274\n",
      "New centroids: [[1.58058247 1.56897412]\n",
      " [0.22331067 0.28960446]]\n",
      "===\n",
      "Iteration: 43\n",
      "Distance new and old centroids: 2.256913624832274\n",
      "New centroids: [[1.58058247 1.56897412]\n",
      " [0.22331067 0.28960446]]\n",
      "===\n",
      "Iteration: 44\n",
      "Distance new and old centroids: 2.256913624832274\n",
      "New centroids: [[1.58058247 1.56897412]\n",
      " [0.22331067 0.28960446]]\n",
      "===\n",
      "Iteration: 45\n",
      "Distance new and old centroids: 2.256913624832274\n",
      "New centroids: [[1.58058247 1.56897412]\n",
      " [0.22331067 0.28960446]]\n",
      "===\n",
      "Iteration: 46\n",
      "Distance new and old centroids: 2.256913624832274\n",
      "New centroids: [[1.58058247 1.56897412]\n",
      " [0.22331067 0.28960446]]\n",
      "===\n",
      "Iteration: 47\n",
      "Distance new and old centroids: 2.256913624832274\n",
      "New centroids: [[1.58058247 1.56897412]\n",
      " [0.22331067 0.28960446]]\n",
      "===\n",
      "Iteration: 48\n",
      "Distance new and old centroids: 2.256913624832274\n",
      "New centroids: [[1.58058247 1.56897412]\n",
      " [0.22331067 0.28960446]]\n",
      "===\n",
      "Iteration: 49\n",
      "Distance new and old centroids: 2.256913624832274\n",
      "New centroids: [[1.58058247 1.56897412]\n",
      " [0.22331067 0.28960446]]\n",
      "===\n",
      "Iteration: 50\n",
      "Distance new and old centroids: 2.256913624832274\n",
      "New centroids: [[1.58058247 1.56897412]\n",
      " [0.22331067 0.28960446]]\n",
      "New Centroids: [[1.58058247 1.56897412]\n",
      " [0.22331067 0.28960446]]\n",
      "===\n",
      "History of centroids: [array([[1.94632499, 1.53506711],\n",
      "       [0.06690549, 0.48741807]]), array([[1.58058247, 1.56897412],\n",
      "       [0.22331067, 0.28960446]]), array([[1.58058247, 1.56897412],\n",
      "       [0.22331067, 0.28960446]]), array([[1.58058247, 1.56897412],\n",
      "       [0.22331067, 0.28960446]]), array([[1.58058247, 1.56897412],\n",
      "       [0.22331067, 0.28960446]]), array([[1.58058247, 1.56897412],\n",
      "       [0.22331067, 0.28960446]]), array([[1.58058247, 1.56897412],\n",
      "       [0.22331067, 0.28960446]]), array([[1.58058247, 1.56897412],\n",
      "       [0.22331067, 0.28960446]]), array([[1.58058247, 1.56897412],\n",
      "       [0.22331067, 0.28960446]]), array([[1.58058247, 1.56897412],\n",
      "       [0.22331067, 0.28960446]]), array([[1.58058247, 1.56897412],\n",
      "       [0.22331067, 0.28960446]]), array([[1.58058247, 1.56897412],\n",
      "       [0.22331067, 0.28960446]]), array([[1.58058247, 1.56897412],\n",
      "       [0.22331067, 0.28960446]]), array([[1.58058247, 1.56897412],\n",
      "       [0.22331067, 0.28960446]]), array([[1.58058247, 1.56897412],\n",
      "       [0.22331067, 0.28960446]]), array([[1.58058247, 1.56897412],\n",
      "       [0.22331067, 0.28960446]]), array([[1.58058247, 1.56897412],\n",
      "       [0.22331067, 0.28960446]]), array([[1.58058247, 1.56897412],\n",
      "       [0.22331067, 0.28960446]]), array([[1.58058247, 1.56897412],\n",
      "       [0.22331067, 0.28960446]]), array([[1.58058247, 1.56897412],\n",
      "       [0.22331067, 0.28960446]]), array([[1.58058247, 1.56897412],\n",
      "       [0.22331067, 0.28960446]]), array([[1.58058247, 1.56897412],\n",
      "       [0.22331067, 0.28960446]]), array([[1.58058247, 1.56897412],\n",
      "       [0.22331067, 0.28960446]]), array([[1.58058247, 1.56897412],\n",
      "       [0.22331067, 0.28960446]]), array([[1.58058247, 1.56897412],\n",
      "       [0.22331067, 0.28960446]]), array([[1.58058247, 1.56897412],\n",
      "       [0.22331067, 0.28960446]]), array([[1.58058247, 1.56897412],\n",
      "       [0.22331067, 0.28960446]]), array([[1.58058247, 1.56897412],\n",
      "       [0.22331067, 0.28960446]]), array([[1.58058247, 1.56897412],\n",
      "       [0.22331067, 0.28960446]]), array([[1.58058247, 1.56897412],\n",
      "       [0.22331067, 0.28960446]]), array([[1.58058247, 1.56897412],\n",
      "       [0.22331067, 0.28960446]]), array([[1.58058247, 1.56897412],\n",
      "       [0.22331067, 0.28960446]]), array([[1.58058247, 1.56897412],\n",
      "       [0.22331067, 0.28960446]]), array([[1.58058247, 1.56897412],\n",
      "       [0.22331067, 0.28960446]]), array([[1.58058247, 1.56897412],\n",
      "       [0.22331067, 0.28960446]]), array([[1.58058247, 1.56897412],\n",
      "       [0.22331067, 0.28960446]]), array([[1.58058247, 1.56897412],\n",
      "       [0.22331067, 0.28960446]]), array([[1.58058247, 1.56897412],\n",
      "       [0.22331067, 0.28960446]]), array([[1.58058247, 1.56897412],\n",
      "       [0.22331067, 0.28960446]]), array([[1.58058247, 1.56897412],\n",
      "       [0.22331067, 0.28960446]]), array([[1.58058247, 1.56897412],\n",
      "       [0.22331067, 0.28960446]]), array([[1.58058247, 1.56897412],\n",
      "       [0.22331067, 0.28960446]]), array([[1.58058247, 1.56897412],\n",
      "       [0.22331067, 0.28960446]]), array([[1.58058247, 1.56897412],\n",
      "       [0.22331067, 0.28960446]]), array([[1.58058247, 1.56897412],\n",
      "       [0.22331067, 0.28960446]]), array([[1.58058247, 1.56897412],\n",
      "       [0.22331067, 0.28960446]]), array([[1.58058247, 1.56897412],\n",
      "       [0.22331067, 0.28960446]]), array([[1.58058247, 1.56897412],\n",
      "       [0.22331067, 0.28960446]]), array([[1.58058247, 1.56897412],\n",
      "       [0.22331067, 0.28960446]]), array([[1.58058247, 1.56897412],\n",
      "       [0.22331067, 0.28960446]]), array([[1.58058247, 1.56897412],\n",
      "       [0.22331067, 0.28960446]])]\n",
      "===\n",
      "Final norm: 2.256913624832274\n"
     ]
    },
    {
     "data": {
      "text/plain": [
       "(array([[1.58058247, 1.56897412],\n",
       "        [0.22331067, 0.28960446]]), [array([[1.94632499, 1.53506711],\n",
       "         [0.06690549, 0.48741807]]), array([[1.58058247, 1.56897412],\n",
       "         [0.22331067, 0.28960446]]), array([[1.58058247, 1.56897412],\n",
       "         [0.22331067, 0.28960446]]), array([[1.58058247, 1.56897412],\n",
       "         [0.22331067, 0.28960446]]), array([[1.58058247, 1.56897412],\n",
       "         [0.22331067, 0.28960446]]), array([[1.58058247, 1.56897412],\n",
       "         [0.22331067, 0.28960446]]), array([[1.58058247, 1.56897412],\n",
       "         [0.22331067, 0.28960446]]), array([[1.58058247, 1.56897412],\n",
       "         [0.22331067, 0.28960446]]), array([[1.58058247, 1.56897412],\n",
       "         [0.22331067, 0.28960446]]), array([[1.58058247, 1.56897412],\n",
       "         [0.22331067, 0.28960446]]), array([[1.58058247, 1.56897412],\n",
       "         [0.22331067, 0.28960446]]), array([[1.58058247, 1.56897412],\n",
       "         [0.22331067, 0.28960446]]), array([[1.58058247, 1.56897412],\n",
       "         [0.22331067, 0.28960446]]), array([[1.58058247, 1.56897412],\n",
       "         [0.22331067, 0.28960446]]), array([[1.58058247, 1.56897412],\n",
       "         [0.22331067, 0.28960446]]), array([[1.58058247, 1.56897412],\n",
       "         [0.22331067, 0.28960446]]), array([[1.58058247, 1.56897412],\n",
       "         [0.22331067, 0.28960446]]), array([[1.58058247, 1.56897412],\n",
       "         [0.22331067, 0.28960446]]), array([[1.58058247, 1.56897412],\n",
       "         [0.22331067, 0.28960446]]), array([[1.58058247, 1.56897412],\n",
       "         [0.22331067, 0.28960446]]), array([[1.58058247, 1.56897412],\n",
       "         [0.22331067, 0.28960446]]), array([[1.58058247, 1.56897412],\n",
       "         [0.22331067, 0.28960446]]), array([[1.58058247, 1.56897412],\n",
       "         [0.22331067, 0.28960446]]), array([[1.58058247, 1.56897412],\n",
       "         [0.22331067, 0.28960446]]), array([[1.58058247, 1.56897412],\n",
       "         [0.22331067, 0.28960446]]), array([[1.58058247, 1.56897412],\n",
       "         [0.22331067, 0.28960446]]), array([[1.58058247, 1.56897412],\n",
       "         [0.22331067, 0.28960446]]), array([[1.58058247, 1.56897412],\n",
       "         [0.22331067, 0.28960446]]), array([[1.58058247, 1.56897412],\n",
       "         [0.22331067, 0.28960446]]), array([[1.58058247, 1.56897412],\n",
       "         [0.22331067, 0.28960446]]), array([[1.58058247, 1.56897412],\n",
       "         [0.22331067, 0.28960446]]), array([[1.58058247, 1.56897412],\n",
       "         [0.22331067, 0.28960446]]), array([[1.58058247, 1.56897412],\n",
       "         [0.22331067, 0.28960446]]), array([[1.58058247, 1.56897412],\n",
       "         [0.22331067, 0.28960446]]), array([[1.58058247, 1.56897412],\n",
       "         [0.22331067, 0.28960446]]), array([[1.58058247, 1.56897412],\n",
       "         [0.22331067, 0.28960446]]), array([[1.58058247, 1.56897412],\n",
       "         [0.22331067, 0.28960446]]), array([[1.58058247, 1.56897412],\n",
       "         [0.22331067, 0.28960446]]), array([[1.58058247, 1.56897412],\n",
       "         [0.22331067, 0.28960446]]), array([[1.58058247, 1.56897412],\n",
       "         [0.22331067, 0.28960446]]), array([[1.58058247, 1.56897412],\n",
       "         [0.22331067, 0.28960446]]), array([[1.58058247, 1.56897412],\n",
       "         [0.22331067, 0.28960446]]), array([[1.58058247, 1.56897412],\n",
       "         [0.22331067, 0.28960446]]), array([[1.58058247, 1.56897412],\n",
       "         [0.22331067, 0.28960446]]), array([[1.58058247, 1.56897412],\n",
       "         [0.22331067, 0.28960446]]), array([[1.58058247, 1.56897412],\n",
       "         [0.22331067, 0.28960446]]), array([[1.58058247, 1.56897412],\n",
       "         [0.22331067, 0.28960446]]), array([[1.58058247, 1.56897412],\n",
       "         [0.22331067, 0.28960446]]), array([[1.58058247, 1.56897412],\n",
       "         [0.22331067, 0.28960446]]), array([[1.58058247, 1.56897412],\n",
       "         [0.22331067, 0.28960446]]), array([[1.58058247, 1.56897412],\n",
       "         [0.22331067, 0.28960446]])], array([[1.],\n",
       "        [1.],\n",
       "        [1.],\n",
       "        [1.],\n",
       "        [1.],\n",
       "        [1.],\n",
       "        [1.],\n",
       "        [1.],\n",
       "        [1.],\n",
       "        [1.],\n",
       "        [1.],\n",
       "        [1.],\n",
       "        [1.],\n",
       "        [1.],\n",
       "        [1.],\n",
       "        [1.],\n",
       "        [1.],\n",
       "        [1.],\n",
       "        [1.],\n",
       "        [1.],\n",
       "        [0.],\n",
       "        [0.],\n",
       "        [0.],\n",
       "        [0.],\n",
       "        [0.],\n",
       "        [0.],\n",
       "        [0.],\n",
       "        [0.],\n",
       "        [0.],\n",
       "        [0.],\n",
       "        [0.],\n",
       "        [0.],\n",
       "        [0.],\n",
       "        [0.],\n",
       "        [0.],\n",
       "        [0.],\n",
       "        [0.],\n",
       "        [0.],\n",
       "        [0.],\n",
       "        [0.]]))"
      ]
     },
     "execution_count": 166,
     "metadata": {},
     "output_type": "execute_result"
    }
   ],
   "source": [
    "kmeans(2)"
   ]
  },
  {
   "cell_type": "code",
   "execution_count": 155,
   "metadata": {},
   "outputs": [
    {
     "name": "stdout",
     "output_type": "stream",
     "text": [
      "[[1.44089645]\n",
      " [0.        ]]\n",
      "[[1.44089645]\n",
      " [2.01523828]]\n",
      "[[1.44089645]\n",
      " [0.        ]]\n",
      "[[1.44089645]\n",
      " [2.01523828]]\n",
      "[[1.44089645]\n",
      " [0.        ]]\n",
      "[[1.44089645]\n",
      " [2.01523828]]\n",
      "[[1.44089645]\n",
      " [0.        ]]\n",
      "[[1.44089645]\n",
      " [2.01523828]]\n",
      "[[1.44089645]\n",
      " [0.        ]]\n",
      "[[1.44089645]\n",
      " [2.01523828]]\n",
      "[[1.44089645]\n",
      " [0.        ]]\n",
      "[[1.44089645]\n",
      " [2.01523828]]\n",
      "[[1.44089645]\n",
      " [0.        ]]\n",
      "[[1.44089645]\n",
      " [2.01523828]]\n",
      "[[1.44089645]\n",
      " [0.        ]]\n",
      "[[1.44089645]\n",
      " [2.01523828]]\n",
      "[[1.44089645]\n",
      " [0.        ]]\n",
      "[[1.44089645]\n",
      " [2.01523828]]\n",
      "[[1.44089645]\n",
      " [0.        ]]\n",
      "[[1.44089645]\n",
      " [2.01523828]]\n",
      "[[1.44089645]\n",
      " [0.        ]]\n",
      "[[1.44089645]\n",
      " [2.01523828]]\n",
      "[[1.44089645]\n",
      " [0.        ]]\n",
      "[[1.44089645]\n",
      " [2.01523828]]\n",
      "[[1.44089645]\n",
      " [0.        ]]\n",
      "[[1.44089645]\n",
      " [2.01523828]]\n",
      "[[1.44089645]\n",
      " [0.        ]]\n",
      "[[1.44089645]\n",
      " [2.01523828]]\n",
      "[[1.44089645]\n",
      " [0.        ]]\n",
      "[[1.44089645]\n",
      " [2.01523828]]\n",
      "[[1.44089645]\n",
      " [0.        ]]\n",
      "[[1.44089645]\n",
      " [2.01523828]]\n",
      "[[1.44089645]\n",
      " [0.        ]]\n",
      "[[1.44089645]\n",
      " [2.01523828]]\n",
      "[[1.44089645]\n",
      " [0.        ]]\n",
      "[[1.44089645]\n",
      " [2.01523828]]\n",
      "[[1.44089645]\n",
      " [0.        ]]\n",
      "[[1.44089645]\n",
      " [2.01523828]]\n",
      "[[1.44089645]\n",
      " [0.        ]]\n",
      "[[1.44089645]\n",
      " [2.01523828]]\n",
      "[[1.44089645]\n",
      " [0.        ]]\n",
      "[[1.44089645]\n",
      " [2.01523828]]\n",
      "[[1.44089645]\n",
      " [0.        ]]\n",
      "[[1.44089645]\n",
      " [2.01523828]]\n",
      "[[1.44089645]\n",
      " [0.        ]]\n",
      "[[1.44089645]\n",
      " [2.01523828]]\n",
      "[[1.44089645]\n",
      " [0.        ]]\n",
      "[[1.44089645]\n",
      " [2.01523828]]\n",
      "[[1.44089645]\n",
      " [0.        ]]\n",
      "[[1.44089645]\n",
      " [2.01523828]]\n",
      "[[1.44089645]\n",
      " [0.        ]]\n",
      "[[1.44089645]\n",
      " [2.01523828]]\n",
      "[[1.44089645]\n",
      " [0.        ]]\n",
      "[[1.44089645]\n",
      " [2.01523828]]\n",
      "[[1.44089645]\n",
      " [0.        ]]\n",
      "[[1.44089645]\n",
      " [2.01523828]]\n",
      "[[1.44089645]\n",
      " [0.        ]]\n",
      "[[1.44089645]\n",
      " [2.01523828]]\n",
      "[[1.44089645]\n",
      " [0.        ]]\n",
      "[[1.44089645]\n",
      " [2.01523828]]\n",
      "[[1.44089645]\n",
      " [0.        ]]\n",
      "[[1.44089645]\n",
      " [2.01523828]]\n",
      "[[1.44089645]\n",
      " [0.        ]]\n",
      "[[1.44089645]\n",
      " [2.01523828]]\n",
      "[[1.44089645]\n",
      " [0.        ]]\n",
      "[[1.44089645]\n",
      " [2.01523828]]\n",
      "[[1.44089645]\n",
      " [0.        ]]\n",
      "[[1.44089645]\n",
      " [2.01523828]]\n",
      "[[1.44089645]\n",
      " [0.        ]]\n",
      "[[1.44089645]\n",
      " [2.01523828]]\n",
      "[[1.44089645]\n",
      " [0.        ]]\n",
      "[[1.44089645]\n",
      " [2.01523828]]\n",
      "[[1.44089645]\n",
      " [0.        ]]\n",
      "[[1.44089645]\n",
      " [2.01523828]]\n",
      "[[1.44089645]\n",
      " [0.        ]]\n",
      "[[1.44089645]\n",
      " [2.01523828]]\n",
      "[[1.44089645]\n",
      " [0.        ]]\n",
      "[[1.44089645]\n",
      " [2.01523828]]\n",
      "[[1.44089645]\n",
      " [0.        ]]\n",
      "[[1.44089645]\n",
      " [2.01523828]]\n"
     ]
    }
   ],
   "source": [
    "#import functions\n",
    "from scipy.spatial import distance\n",
    "\n",
    "def euclidian(a,b):\n",
    "    return np.sqrt(np.sum((a-b)**2))\n",
    "\n",
    "k=2\n",
    "centroids_new = dataset[np.random.randint(0, num_instances - 1, size=k)]\n",
    "centroids_old = np.zeros(centroids_new.shape)\n",
    "\n",
    "for index_row, row in enumerate(dataset):\n",
    "    #print(index_row, row)\n",
    "    dist_vec = np.zeros((k,1))\n",
    "    #print(dist_vec)\n",
    "    for index_centroids, centroid in enumerate(centroids_new):\n",
    "        #print(index_centroids, centroid)\n",
    "        dist_vec[index_centroids] = euclidian(centroid, instance)\n",
    "        print(dist_vec)"
   ]
  },
  {
   "cell_type": "code",
   "execution_count": 167,
   "metadata": {},
   "outputs": [],
   "source": [
    "def kmeans(k, epsilon=0, distance='euclidian'):\n",
    "    history_centroids = []\n",
    "    if distance == 'euclidian':\n",
    "        dist_method = euclidian\n",
    "    dataset = load_dataset('durudataset.txt')\n",
    "    # dataset = dataset[:, 0:dataset.shape[1] - 1]\n",
    "    num_instances, num_features = dataset.shape\n",
    "    prototypes = dataset[np.random.randint(0, num_instances - 1, size=k)]\n",
    "    history_centroids.append(prototypes)\n",
    "    prototypes_old = np.zeros(prototypes.shape)\n",
    "    belongs_to = np.zeros((num_instances, 1))\n",
    "    norm = dist_method(prototypes, prototypes_old)\n",
    "    iteration = 0\n",
    "    while norm > epsilon:\n",
    "        iteration += 1\n",
    "        norm = dist_method(prototypes, prototypes_old)\n",
    "        prototypes_old = prototypes\n",
    "        for index_instance, instance in enumerate(dataset):\n",
    "            dist_vec = np.zeros((k, 1))\n",
    "            for index_prototype, prototype in enumerate(prototypes):\n",
    "                dist_vec[index_prototype] = dist_method(prototype,\n",
    "                                                        instance)\n",
    "\n",
    "            belongs_to[index_instance, 0] = np.argmin(dist_vec)\n",
    "\n",
    "        tmp_prototypes = np.zeros((k, num_features))\n",
    "\n",
    "        for index in range(len(prototypes)):\n",
    "            instances_close = [i for i in range(len(belongs_to)) if belongs_to[i] == index]\n",
    "            prototype = np.mean(dataset[instances_close], axis=0)\n",
    "            # prototype = dataset[np.random.randint(0, num_instances, size=1)[0]]\n",
    "            tmp_prototypes[index, :] = prototype\n",
    "\n",
    "        prototypes = tmp_prototypes\n",
    "\n",
    "        history_centroids.append(tmp_prototypes)\n",
    "\n",
    "    # plot(dataset, history_centroids, belongs_to)\n",
    "\n",
    "    return prototypes, history_centroids, belongs_to"
   ]
  },
  {
   "cell_type": "code",
   "execution_count": 168,
   "metadata": {
    "collapsed": true
   },
   "outputs": [],
   "source": [
    "#lets define a plotting algorithm for our dataset and our centroids\n",
    "def plot(dataset, history_centroids, belongs_to):\n",
    "    #we'll have 2 colors for each centroid cluster\n",
    "    colors = ['r', 'g']\n",
    "\n",
    "    #split our graph by its axis and actual plot\n",
    "    fig, ax = plt.subplots()\n",
    "\n",
    "    #for each point in our dataset\n",
    "    for index in range(dataset.shape[0]):\n",
    "        #get all the points assigned to a cluster\n",
    "        instances_close = [i for i in range(len(belongs_to)) if belongs_to[i] == index]\n",
    "        #assign each datapoint in that cluster a color and plot it\n",
    "        for instance_index in instances_close:\n",
    "            ax.plot(dataset[instance_index][0], dataset[instance_index][1], (colors[index] + 'o'))\n",
    "\n",
    "    #lets also log the history of centroids calculated via training\n",
    "    history_points = []\n",
    "    #for each centroid ever calculated\n",
    "    for index, centroids in enumerate(history_centroids):\n",
    "        # Print them all out\n",
    "        for inner, item in enumerate(centroids):\n",
    "            if index == 0:\n",
    "                history_points.append(ax.plot(item[0], item[1], 'bo')[0])\n",
    "            else:\n",
    "                history_points[inner].set_data(item[0], item[1])\n",
    "                print(\"centroids {} {}\".format(index, item))\n",
    "\n",
    "                plt.show()"
   ]
  },
  {
   "cell_type": "code",
   "execution_count": 183,
   "metadata": {
    "collapsed": false
   },
   "outputs": [],
   "source": [
    "%matplotlib inline\n",
    "def plot_step_by_step(dataset, history_centroids, belongs_to):\n",
    "    colors = ['r', 'g']\n",
    "\n",
    "    fig, ax = plt.subplots()\n",
    "\n",
    "    for index in range(dataset.shape[0]):\n",
    "        instances_close = [i for i in range(len(belongs_to)) if belongs_to[i] == index]\n",
    "        for instance_index in instances_close:\n",
    "            ax.plot(dataset[instance_index][0], dataset[instance_index][1], (colors[index] + 'o'))\n",
    "\n",
    "    history_points = []\n",
    "    for index, centroids in enumerate(history_centroids):\n",
    "        for inner, item in enumerate(centroids):\n",
    "            if index == 0:\n",
    "                history_points.append(ax.plot(item[0], item[1], 'bo')[0])\n",
    "            else:\n",
    "                history_points[inner].set_data(item[0], item[1])\n",
    "                print(\"centroids {} {}\".format(index, item))\n",
    "                \n",
    "                plt.pause(0.8)"
   ]
  },
  {
   "cell_type": "code",
   "execution_count": 189,
   "metadata": {
    "collapsed": true
   },
   "outputs": [],
   "source": [
    "#main file \n",
    "def execute():\n",
    "    # Load dataset\n",
    "    dataset = load_dataset('./durudataset.txt')\n",
    "    \n",
    "    # Train the model on the data\n",
    "    centroids, history_centroids, belongs_to = kmeans(2)\n",
    "    \n",
    "    # Plot the results\n",
    "    plot(dataset, history_centroids, belongs_to);\n",
    "    \n",
    "    for item in history_centroids:\n",
    "        plot_step_by_step(dataset, [item], belongs_to)"
   ]
  },
  {
   "cell_type": "code",
   "execution_count": 190,
   "metadata": {
    "collapsed": false,
    "scrolled": false
   },
   "outputs": [
    {
     "name": "stdout",
     "output_type": "stream",
     "text": [
      "centroids 1 [0.89842765 0.90279847]\n"
     ]
    },
    {
     "data": {
      "image/png": "[encoded data removed]",
      "text/plain": [
       "<Figure size 432x288 with 1 Axes>"
      ]
     },
     "metadata": {
      "needs_background": "light"
     },
     "output_type": "display_data"
    },
    {
     "name": "stdout",
     "output_type": "stream",
     "text": [
      "centroids 1 [1.03918449 1.9624314 ]\n",
      "centroids 2 [0.40750289 0.43730433]\n",
      "centroids 2 [1.6436121  1.66726672]\n",
      "centroids 3 [0.22331067 0.28960446]\n",
      "centroids 3 [1.58058247 1.56897412]\n",
      "centroids 4 [0.22331067 0.28960446]\n",
      "centroids 4 [1.58058247 1.56897412]\n",
      "centroids 5 [0.22331067 0.28960446]\n",
      "centroids 5 [1.58058247 1.56897412]\n"
     ]
    },
    {
     "data": {
      "image/png": "[encoded data removed]",
      "text/plain": [
       "<Figure size 432x288 with 1 Axes>"
      ]
     },
     "metadata": {
      "needs_background": "light"
     },
     "output_type": "display_data"
    },
    {
     "data": {
      "image/png": "[encoded data removed]",
      "text/plain": [
       "<Figure size 432x288 with 1 Axes>"
      ]
     },
     "metadata": {
      "needs_background": "light"
     },
     "output_type": "display_data"
    },
    {
     "data": {
      "image/png": "[encoded data removed]",
      "text/plain": [
       "<Figure size 432x288 with 1 Axes>"
      ]
     },
     "metadata": {
      "needs_background": "light"
     },
     "output_type": "display_data"
    },
    {
     "data": {
      "image/png": "[encoded data removed]",
      "text/plain": [
       "<Figure size 432x288 with 1 Axes>"
      ]
     },
     "metadata": {
      "needs_background": "light"
     },
     "output_type": "display_data"
    },
    {
     "data": {
      "image/png": "[encoded data removed]",
      "text/plain": [
       "<Figure size 432x288 with 1 Axes>"
      ]
     },
     "metadata": {
      "needs_background": "light"
     },
     "output_type": "display_data"
    },
    {
     "data": {
      "image/png": "[encoded data removed]",
      "text/plain": [
       "<Figure size 432x288 with 1 Axes>"
      ]
     },
     "metadata": {
      "needs_background": "light"
     },
     "output_type": "display_data"
    }
   ],
   "source": [
    "%matplotlib inline\n",
    "\n",
    "# Execute\n",
    "execute()"
   ]
  }
 ],
 "metadata": {
  "kernelspec": {
   "display_name": "Python3.6",
   "language": "python",
   "name": "python3"
  },
  "language_info": {
   "codemirror_mode": {
    "name": "ipython",
    "version": 3
   },
   "file_extension": ".py",
   "mimetype": "text/x-python",
   "name": "python",
   "nbconvert_exporter": "python",
   "pygments_lexer": "ipython3",
   "version": "3.6.7"
  }
 },
 "nbformat": 4,
 "nbformat_minor": 2
}
